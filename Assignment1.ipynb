{
 "cells": [
  {
   "cell_type": "code",
   "execution_count": 3,
   "id": "8ce5a747-90f0-451d-a979-fefbaa340ecb",
   "metadata": {},
   "outputs": [],
   "source": [
    "import numpy as np"
   ]
  },
  {
   "cell_type": "code",
   "execution_count": 5,
   "id": "281c611b-3bca-4cd7-ae24-01108229dfeb",
   "metadata": {},
   "outputs": [],
   "source": [
    "# Q1"
   ]
  },
  {
   "cell_type": "code",
   "execution_count": 7,
   "id": "489c8485-56ea-4bfc-b53f-221f7024f5bc",
   "metadata": {},
   "outputs": [],
   "source": [
    "arr = np.array([1, 2, 3, 6, 4, 5])"
   ]
  },
  {
   "cell_type": "code",
   "execution_count": 9,
   "id": "d2c2e3ed-3773-49d3-ab98-2b0a8bba98b7",
   "metadata": {},
   "outputs": [],
   "source": [
    "reverse = arr[::-1]"
   ]
  },
  {
   "cell_type": "code",
   "execution_count": 11,
   "id": "f12ce36b-098d-49a9-9783-2c3ef42e844c",
   "metadata": {},
   "outputs": [
    {
     "data": {
      "text/plain": [
       "array([5, 4, 6, 3, 2, 1])"
      ]
     },
     "execution_count": 11,
     "metadata": {},
     "output_type": "execute_result"
    }
   ],
   "source": [
    "reverse"
   ]
  },
  {
   "cell_type": "code",
   "execution_count": 13,
   "id": "783f996f-57c2-46c2-b193-b86af68b592f",
   "metadata": {},
   "outputs": [],
   "source": [
    "# Q1 b"
   ]
  },
  {
   "cell_type": "code",
   "execution_count": 15,
   "id": "bfdb5966-48f5-499b-a1e9-f483cdc163af",
   "metadata": {},
   "outputs": [],
   "source": [
    "array1 = np.array([[1, 2, 3],\n",
    "                   [2, 4, 5],\n",
    "                   [1, 2, 3]])"
   ]
  },
  {
   "cell_type": "code",
   "execution_count": 21,
   "id": "e0e48302-9cec-458a-b4e0-c79d15b7e530",
   "metadata": {},
   "outputs": [
    {
     "name": "stdout",
     "output_type": "stream",
     "text": [
      "[1 2 3 2 4 5 1 2 3]\n"
     ]
    }
   ],
   "source": [
    "flat1 = array1.flatten()\n",
    "print(flat1)"
   ]
  },
  {
   "cell_type": "code",
   "execution_count": 25,
   "id": "a972f3d7-36b6-4fa7-bef6-b022bbe3ee93",
   "metadata": {},
   "outputs": [
    {
     "name": "stdout",
     "output_type": "stream",
     "text": [
      "[1 2 3 2 4 5 1 2 3]\n"
     ]
    }
   ],
   "source": [
    "flat2 = array1.ravel()\n",
    "print(flat2)"
   ]
  },
  {
   "cell_type": "code",
   "execution_count": 27,
   "id": "45546d7b-6b61-455e-810f-985eebb9d70e",
   "metadata": {},
   "outputs": [],
   "source": [
    "# Q1 c"
   ]
  },
  {
   "cell_type": "code",
   "execution_count": 29,
   "id": "bcc0bd60-a91d-49cb-a176-46959c40a930",
   "metadata": {},
   "outputs": [
    {
     "name": "stdout",
     "output_type": "stream",
     "text": [
      "ElementWise [[ True  True]\n",
      " [ True  True]]\n"
     ]
    }
   ],
   "source": [
    "arr1 = np.array([[1, 2], [3, 4]])\n",
    "arr2 = np.array([[1, 2], [3, 4]])\n",
    "\n",
    "print(\"ElementWise\", arr1 == arr2)"
   ]
  },
  {
   "cell_type": "code",
   "execution_count": 31,
   "id": "81e33fba-49e2-43a3-8685-4b416620ccb9",
   "metadata": {},
   "outputs": [],
   "source": [
    "# Q1e"
   ]
  },
  {
   "cell_type": "code",
   "execution_count": 33,
   "id": "4dfe756e-e683-4ab2-ba84-42a30f18d1b2",
   "metadata": {},
   "outputs": [
    {
     "name": "stdout",
     "output_type": "stream",
     "text": [
      "Sum of all elements: 45\n",
      "Row-wise sum:\n",
      " [[14]\n",
      " [16]\n",
      " [15]]\n",
      "Column-wise sum:\n",
      " [[20  9 16]]\n"
     ]
    }
   ],
   "source": [
    "gfg = np.matrix('[4, 1, 9; 12, 3, 1; 4, 5, 6]')\n",
    "\n",
    "total_sum = gfg.sum()\n",
    "row_sum = gfg.sum(axis=1)\n",
    "col_sum = gfg.sum(axis=0)\n",
    "\n",
    "print(\"Sum of all elements:\", total_sum)\n",
    "print(\"Row-wise sum:\\n\", row_sum)\n",
    "print(\"Column-wise sum:\\n\", col_sum)"
   ]
  },
  {
   "cell_type": "code",
   "execution_count": 35,
   "id": "17b894c8-39e4-48b9-ae23-df41b02dc5d2",
   "metadata": {},
   "outputs": [
    {
     "name": "stdout",
     "output_type": "stream",
     "text": [
      "Sum of diagonal elements: 176\n",
      "\n",
      "Eigenvalues:\n",
      " [98.16835147 28.097044   49.73460452]\n",
      "\n",
      "Eigenvectors (columns correspond to eigenvalues):\n",
      " [[ 0.4574917   0.34637121 -0.15017693]\n",
      " [ 0.28447814 -0.72784061 -0.4852124 ]\n",
      " [ 0.84248058  0.59184038  0.8614034 ]]\n",
      "\n",
      "Inverse of matrix:\n",
      " [[ 0.02404141 -0.00911212 -0.00444671]\n",
      " [-0.01667882  0.02966905  0.0024785 ]\n",
      " [ 0.00631287 -0.01603732  0.01217379]]\n",
      "\n",
      "Determinant of matrix: 137180.0000000001\n"
     ]
    }
   ],
   "source": [
    "n_array = np.array([[55, 25, 15],\n",
    "                    [30, 44,  2],\n",
    "                    [11, 45, 77]])\n",
    "\n",
    "diag_sum = np.trace(n_array)\n",
    "eigvals, eigvecs = np.linalg.eig(n_array)\n",
    "inverse = np.linalg.inv(n_array)\n",
    "determinant = np.linalg.det(n_array)\n",
    "\n",
    "print(\"Sum of diagonal elements:\", diag_sum)\n",
    "print(\"\\nEigenvalues:\\n\", eigvals)\n",
    "print(\"\\nEigenvectors (columns correspond to eigenvalues):\\n\", eigvecs)\n",
    "print(\"\\nInverse of matrix:\\n\", inverse)\n",
    "print(\"\\nDeterminant of matrix:\", determinant)"
   ]
  },
  {
   "cell_type": "code",
   "execution_count": 37,
   "id": "df706532-694f-48fa-a879-1b886689027f",
   "metadata": {},
   "outputs": [
    {
     "name": "stdout",
     "output_type": "stream",
     "text": [
      "[[16 19]\n",
      " [26 31]]\n",
      "[[0.5 0.5 0.5 0.5]\n",
      " [0.5 0.5 0.5 0.5]\n",
      " [0.5 0.5 0.5 0.5]\n",
      " [0.5 0.5 0.5 0.5]]\n"
     ]
    }
   ],
   "source": [
    "p1 = np.array([[1, 2], [2, 3]])\n",
    "q1 = np.array([[4, 5], [6, 7]])\n",
    "product1 = np.dot(p1, q1)\n",
    "cov1 = np.cov(p1, q1)\n",
    "print(product1)\n",
    "print(cov1)"
   ]
  },
  {
   "cell_type": "code",
   "execution_count": 39,
   "id": "842c2d81-e02c-4722-b95c-296e4ee20ad2",
   "metadata": {},
   "outputs": [
    {
     "ename": "ValueError",
     "evalue": "all the input array dimensions except for the concatenation axis must match exactly, but along dimension 1, the array at index 0 has size 2 and the array at index 1 has size 3",
     "output_type": "error",
     "traceback": [
      "\u001b[1;31m---------------------------------------------------------------------------\u001b[0m",
      "\u001b[1;31mValueError\u001b[0m                                Traceback (most recent call last)",
      "Cell \u001b[1;32mIn[39], line 4\u001b[0m\n\u001b[0;32m      2\u001b[0m q2 \u001b[38;5;241m=\u001b[39m np\u001b[38;5;241m.\u001b[39marray([[\u001b[38;5;241m4\u001b[39m, \u001b[38;5;241m5\u001b[39m, \u001b[38;5;241m1\u001b[39m], [\u001b[38;5;241m6\u001b[39m, \u001b[38;5;241m7\u001b[39m, \u001b[38;5;241m2\u001b[39m]])\n\u001b[0;32m      3\u001b[0m product2 \u001b[38;5;241m=\u001b[39m np\u001b[38;5;241m.\u001b[39mdot(p2, q2)\n\u001b[1;32m----> 4\u001b[0m cov2 \u001b[38;5;241m=\u001b[39m np\u001b[38;5;241m.\u001b[39mcov(p2, q2)\n\u001b[0;32m      5\u001b[0m \u001b[38;5;28mprint\u001b[39m(product2)\n\u001b[0;32m      6\u001b[0m \u001b[38;5;28mprint\u001b[39m(cov2)\n",
      "File \u001b[1;32mC:\\ProgramData\\anaconda3\\Lib\\site-packages\\numpy\\lib\\function_base.py:2683\u001b[0m, in \u001b[0;36mcov\u001b[1;34m(m, y, rowvar, bias, ddof, fweights, aweights, dtype)\u001b[0m\n\u001b[0;32m   2681\u001b[0m     \u001b[38;5;28;01mif\u001b[39;00m \u001b[38;5;129;01mnot\u001b[39;00m rowvar \u001b[38;5;129;01mand\u001b[39;00m y\u001b[38;5;241m.\u001b[39mshape[\u001b[38;5;241m0\u001b[39m] \u001b[38;5;241m!=\u001b[39m \u001b[38;5;241m1\u001b[39m:\n\u001b[0;32m   2682\u001b[0m         y \u001b[38;5;241m=\u001b[39m y\u001b[38;5;241m.\u001b[39mT\n\u001b[1;32m-> 2683\u001b[0m     X \u001b[38;5;241m=\u001b[39m np\u001b[38;5;241m.\u001b[39mconcatenate((X, y), axis\u001b[38;5;241m=\u001b[39m\u001b[38;5;241m0\u001b[39m)\n\u001b[0;32m   2685\u001b[0m \u001b[38;5;28;01mif\u001b[39;00m ddof \u001b[38;5;129;01mis\u001b[39;00m \u001b[38;5;28;01mNone\u001b[39;00m:\n\u001b[0;32m   2686\u001b[0m     \u001b[38;5;28;01mif\u001b[39;00m bias \u001b[38;5;241m==\u001b[39m \u001b[38;5;241m0\u001b[39m:\n",
      "\u001b[1;31mValueError\u001b[0m: all the input array dimensions except for the concatenation axis must match exactly, but along dimension 1, the array at index 0 has size 2 and the array at index 1 has size 3"
     ]
    }
   ],
   "source": [
    "p2 = np.array([[1, 2], [2, 3], [4, 5]])\n",
    "q2 = np.array([[4, 5, 1], [6, 7, 2]])\n",
    "product2 = np.dot(p2, q2)\n",
    "cov2 = np.cov(p2, q2)\n",
    "print(product2)\n",
    "print(cov2)"
   ]
  },
  {
   "cell_type": "code",
   "execution_count": 41,
   "id": "5ff71f21-c456-4ad8-b4ea-ecf95c4facbc",
   "metadata": {},
   "outputs": [
    {
     "name": "stdout",
     "output_type": "stream",
     "text": [
      "[[17 52]\n",
      " [13 62]]\n",
      "[[ 2 10  0 10 20  6]\n",
      " [ 3 15  0 15 30  9]\n",
      " [ 4 20  0 20 40 12]\n",
      " [ 3 15  0 15 30  9]\n",
      " [ 2 10  0 10 20  6]\n",
      " [ 9 45  0 45 90 27]]\n",
      "[[ 2  1]\n",
      " [ 2  5]\n",
      " [ 2  0]\n",
      " [ 2  5]\n",
      " [ 2 10]\n",
      " [ 2  3]\n",
      " [ 3  1]\n",
      " [ 3  5]\n",
      " [ 3  0]\n",
      " [ 3  5]\n",
      " [ 3 10]\n",
      " [ 3  3]\n",
      " [ 4  1]\n",
      " [ 4  5]\n",
      " [ 4  0]\n",
      " [ 4  5]\n",
      " [ 4 10]\n",
      " [ 4  3]\n",
      " [ 3  1]\n",
      " [ 3  5]\n",
      " [ 3  0]\n",
      " [ 3  5]\n",
      " [ 3 10]\n",
      " [ 3  3]\n",
      " [ 2  1]\n",
      " [ 2  5]\n",
      " [ 2  0]\n",
      " [ 2  5]\n",
      " [ 2 10]\n",
      " [ 2  3]\n",
      " [ 9  1]\n",
      " [ 9  5]\n",
      " [ 9  0]\n",
      " [ 9  5]\n",
      " [ 9 10]\n",
      " [ 9  3]]\n"
     ]
    }
   ],
   "source": [
    "x = np.array([[2, 3, 4], [3, 2, 9]])\n",
    "y = np.array([[1, 5, 0], [5, 10, 3]])\n",
    "\n",
    "inner_product = np.inner(x, y)\n",
    "outer_product = np.outer(x, y)\n",
    "cartesian_product = np.array(np.meshgrid(x.flatten(), y.flatten())).T.reshape(-1, 2)\n",
    "\n",
    "print(inner_product)\n",
    "print(outer_product)\n",
    "print(cartesian_product)"
   ]
  },
  {
   "cell_type": "code",
   "execution_count": 43,
   "id": "cd3c5b06-b841-408c-aa25-1bf1c19a843a",
   "metadata": {},
   "outputs": [],
   "source": [
    "# Q2"
   ]
  },
  {
   "cell_type": "code",
   "execution_count": 45,
   "id": "62fa66b3-7d32-4527-8e2c-0e83a1b48901",
   "metadata": {},
   "outputs": [
    {
     "name": "stdout",
     "output_type": "stream",
     "text": [
      "[[1 2 3]\n",
      " [4 5 6]]\n",
      "[-3.5 -0.5  2.5]\n",
      "[[-2.75 -0.25 -3.75]\n",
      " [-1.5   1.5  -1.5 ]\n",
      " [-0.25  3.25  0.75]]\n",
      "[[-0.5 -5. ]\n",
      " [ 1.  -4. ]\n",
      " [ 2.   0.5]]\n",
      "-0.5 -0.5 3.8622100754188224\n",
      "[-1.5  1.5 -1.5] [-1.5  1.5 -1.5] [2.5 3.5 4.5]\n",
      "[ 0.66666667 -1.66666667] [ 1. -4.] [2.05480467 4.78423336]\n"
     ]
    }
   ],
   "source": [
    "array = np.array([[1, -2, 3], [-4, 5, -6]])\n",
    "\n",
    "abs_array = np.abs(array)\n",
    "\n",
    "percentile_flat = np.percentile(array, [25, 50, 75])\n",
    "percentile_col = np.percentile(array, [25, 50, 75], axis=0)\n",
    "percentile_row = np.percentile(array, [25, 50, 75], axis=1)\n",
    "\n",
    "mean_flat = np.mean(array)\n",
    "median_flat = np.median(array)\n",
    "std_flat = np.std(array)\n",
    "\n",
    "mean_col = np.mean(array, axis=0)\n",
    "median_col = np.median(array, axis=0)\n",
    "std_col = np.std(array, axis=0)\n",
    "\n",
    "mean_row = np.mean(array, axis=1)\n",
    "median_row = np.median(array, axis=1)\n",
    "std_row = np.std(array, axis=1)\n",
    "\n",
    "print(abs_array)\n",
    "print(percentile_flat)\n",
    "print(percentile_col)\n",
    "print(percentile_row)\n",
    "print(mean_flat, median_flat, std_flat)\n",
    "print(mean_col, median_col, std_col)\n",
    "print(mean_row, median_row, std_row)"
   ]
  },
  {
   "cell_type": "code",
   "execution_count": 47,
   "id": "ebed2428-0a50-4bc1-9872-3023391d70e5",
   "metadata": {},
   "outputs": [],
   "source": [
    "# Q2 B"
   ]
  },
  {
   "cell_type": "code",
   "execution_count": 49,
   "id": "ea8f4d5a-66a5-48d2-a8e0-37546bc532cd",
   "metadata": {},
   "outputs": [],
   "source": [
    "a = np.array([-1.8, -1.6, -0.5, 0.5, 1.6, 1.8, 3.0])\n",
    "\n",
    "floor_vals = np.floor(a)\n",
    "ceil_vals = np.ceil(a)\n",
    "trunc_vals = np.trunc(a)\n",
    "round_vals = np.round(a)"
   ]
  },
  {
   "cell_type": "code",
   "execution_count": 51,
   "id": "acf5e613-e6ed-46f1-aaf2-abb255aa46ff",
   "metadata": {},
   "outputs": [
    {
     "data": {
      "text/plain": [
       "array([-2., -2., -1.,  0.,  1.,  1.,  3.])"
      ]
     },
     "execution_count": 51,
     "metadata": {},
     "output_type": "execute_result"
    }
   ],
   "source": [
    "floor_vals"
   ]
  },
  {
   "cell_type": "code",
   "execution_count": 53,
   "id": "6a5a0319-37e1-47fd-86e8-f4df39581b63",
   "metadata": {},
   "outputs": [
    {
     "data": {
      "text/plain": [
       "array([-1., -1., -0.,  1.,  2.,  2.,  3.])"
      ]
     },
     "execution_count": 53,
     "metadata": {},
     "output_type": "execute_result"
    }
   ],
   "source": [
    "ceil_vals"
   ]
  },
  {
   "cell_type": "code",
   "execution_count": 55,
   "id": "7da8bb60-2ee1-4f03-84cb-7be22c376238",
   "metadata": {},
   "outputs": [
    {
     "data": {
      "text/plain": [
       "array([-1., -1., -0.,  0.,  1.,  1.,  3.])"
      ]
     },
     "execution_count": 55,
     "metadata": {},
     "output_type": "execute_result"
    }
   ],
   "source": [
    "trunc_vals"
   ]
  },
  {
   "cell_type": "code",
   "execution_count": 57,
   "id": "b122bb96-0b0a-4dd1-9a16-ea92afbedd69",
   "metadata": {},
   "outputs": [
    {
     "data": {
      "text/plain": [
       "array([-2., -2., -0.,  0.,  2.,  2.,  3.])"
      ]
     },
     "execution_count": 57,
     "metadata": {},
     "output_type": "execute_result"
    }
   ],
   "source": [
    "round_vals"
   ]
  },
  {
   "cell_type": "code",
   "execution_count": 61,
   "id": "3179f31e-7aa5-477b-980d-84987b5ead57",
   "metadata": {},
   "outputs": [],
   "source": [
    "#Q3 a"
   ]
  },
  {
   "cell_type": "code",
   "execution_count": 63,
   "id": "0ac5a3fa-d73d-4434-b6c0-2404104b96b4",
   "metadata": {},
   "outputs": [],
   "source": [
    "array = np.array([10, 52, 62, 16, 16, 54, 453])"
   ]
  },
  {
   "cell_type": "code",
   "execution_count": 65,
   "id": "614d25f9-c1f0-4a59-8c7a-89b2d69fc56a",
   "metadata": {},
   "outputs": [],
   "source": [
    "sorted_array = np.sort(array)\n",
    "sorted_indices = np.argsort(array)\n",
    "smallest_4 = np.sort(array)[:4]\n",
    "largest_5 = np.sort(array)[-5:]"
   ]
  },
  {
   "cell_type": "code",
   "execution_count": 67,
   "id": "231d70ba-1002-41fa-b89e-c85fc569a581",
   "metadata": {},
   "outputs": [
    {
     "data": {
      "text/plain": [
       "array([ 10,  16,  16,  52,  54,  62, 453])"
      ]
     },
     "execution_count": 67,
     "metadata": {},
     "output_type": "execute_result"
    }
   ],
   "source": [
    "sorted_array"
   ]
  },
  {
   "cell_type": "code",
   "execution_count": 69,
   "id": "d1ff12bd-7152-489b-a66b-c4faba75adad",
   "metadata": {},
   "outputs": [
    {
     "data": {
      "text/plain": [
       "array([0, 3, 4, 1, 5, 2, 6], dtype=int64)"
      ]
     },
     "execution_count": 69,
     "metadata": {},
     "output_type": "execute_result"
    }
   ],
   "source": [
    "sorted_indices"
   ]
  },
  {
   "cell_type": "code",
   "execution_count": 71,
   "id": "b4cfb86b-3531-482f-b6b9-8661cf6a74b3",
   "metadata": {},
   "outputs": [
    {
     "data": {
      "text/plain": [
       "array([10, 16, 16, 52])"
      ]
     },
     "execution_count": 71,
     "metadata": {},
     "output_type": "execute_result"
    }
   ],
   "source": [
    "smallest_4"
   ]
  },
  {
   "cell_type": "code",
   "execution_count": 73,
   "id": "39d6252d-57a6-4bc9-8b09-bee152340db7",
   "metadata": {},
   "outputs": [
    {
     "data": {
      "text/plain": [
       "array([ 16,  52,  54,  62, 453])"
      ]
     },
     "execution_count": 73,
     "metadata": {},
     "output_type": "execute_result"
    }
   ],
   "source": [
    "largest_5"
   ]
  },
  {
   "cell_type": "code",
   "execution_count": 75,
   "id": "1b3c9223-6dbd-43cd-945d-88fe4249b310",
   "metadata": {},
   "outputs": [],
   "source": [
    "# Q3 b"
   ]
  },
  {
   "cell_type": "code",
   "execution_count": 77,
   "id": "b6a67beb-0046-493f-88ca-e3a014bd76e6",
   "metadata": {},
   "outputs": [],
   "source": [
    "array = np.array([1.0, 1.2, 2.2, 2.0, 3.0, 2.0])"
   ]
  },
  {
   "cell_type": "code",
   "execution_count": 79,
   "id": "b5f89d74-3c44-431d-b643-92b3245421d6",
   "metadata": {},
   "outputs": [],
   "source": [
    "int_elements = array[np.floor(array) == array]\n",
    "float_elements = array[np.floor(array) != array]"
   ]
  },
  {
   "cell_type": "code",
   "execution_count": 81,
   "id": "486a4f72-5198-4465-9939-44bd3c9d4820",
   "metadata": {},
   "outputs": [
    {
     "data": {
      "text/plain": [
       "array([1., 2., 3., 2.])"
      ]
     },
     "execution_count": 81,
     "metadata": {},
     "output_type": "execute_result"
    }
   ],
   "source": [
    "int_elements"
   ]
  },
  {
   "cell_type": "code",
   "execution_count": 83,
   "id": "1366dc89-1f7b-4477-99a5-e5700d7ac0e2",
   "metadata": {},
   "outputs": [
    {
     "data": {
      "text/plain": [
       "array([1.2, 2.2])"
      ]
     },
     "execution_count": 83,
     "metadata": {},
     "output_type": "execute_result"
    }
   ],
   "source": [
    "float_elements"
   ]
  },
  {
   "cell_type": "code",
   "execution_count": null,
   "id": "ecd5c927-81fb-4949-b1f9-f57bd8651f52",
   "metadata": {},
   "outputs": [],
   "source": []
  }
 ],
 "metadata": {
  "kernelspec": {
   "display_name": "Python 3 (ipykernel)",
   "language": "python",
   "name": "python3"
  },
  "language_info": {
   "codemirror_mode": {
    "name": "ipython",
    "version": 3
   },
   "file_extension": ".py",
   "mimetype": "text/x-python",
   "name": "python",
   "nbconvert_exporter": "python",
   "pygments_lexer": "ipython3",
   "version": "3.12.4"
  }
 },
 "nbformat": 4,
 "nbformat_minor": 5
}
